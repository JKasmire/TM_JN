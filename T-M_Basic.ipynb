{
 "cells": [
  {
   "cell_type": "markdown",
   "metadata": {},
   "source": [
    "![UKDS Logo](images/UKDS_Logos_Col_Grey_300dpi.png)"
   ]
  },
  {
   "cell_type": "markdown",
   "metadata": {
    "slideshow": {
     "slide_type": "-"
    }
   },
   "source": [
    "# Text-mining: Basics"
   ]
  },
  {
   "cell_type": "markdown",
   "metadata": {},
   "source": [
    "Welcome to the <a href=\"https://ukdataservice.ac.uk/\" target=_blank>UK Data Service</a> training series on *New Forms of Data for Social Science Research*. This series guides you through some of the most common and valuable new sources of data available for social science research: data collected from websites, social media platorms, text data, conducting simulations (agent based modelling), to name a few. We provide webinars, interactive notebooks containing live programming code, reading lists and more.\n",
    "\n",
    "* To access training materials for the entire series: <a href=\"https://github.com/UKDataServiceOpen/new-forms-of-data\" target=_blank>[Training Materials]</a>\n",
    "\n",
    "* To keep up to date with upcoming and past training events: <a href=\"https://ukdataservice.ac.uk/news-and-events/events\" target=_blank>[Events]</a>\n",
    "\n",
    "* To get in contact with feedback, ideas or to seek assistance: <a href=\"https://ukdataservice.ac.uk/help.aspx\" target=_blank>[Help]</a>\n",
    "\n",
    "<a href=\"https://www.research.manchester.ac.uk/portal/julia.kasmire.html\" target=_blank>Dr Julia Kasmire</a> and <a href=\"https://www.research.manchester.ac.uk/portal/diarmuid.mcdonnell.html\" target=_blank>Dr Diarmuid McDonnell</a> <br />\n",
    "UK Data Service  <br />\n",
    "University of Manchester <br />\n",
    "May 2020"
   ]
  },
  {
   "cell_type": "markdown",
   "metadata": {
    "toc": true
   },
   "source": [
    "<h1>Table of Contents<span class=\"tocSkip\"></span></h1>\n",
    "<div class=\"toc\"><ul class=\"toc-item\"><li><span><a href=\"#Introduction\" data-toc-modified-id=\"Introduction-1\"><span class=\"toc-item-num\">1&nbsp;&nbsp;</span>Introduction</a></span></li><li><span><a href=\"#Retrieval\" data-toc-modified-id=\"Retrieval-2\"><span class=\"toc-item-num\">2&nbsp;&nbsp;</span>Retrieval</a></span></li><li><span><a href=\"#Processing\" data-toc-modified-id=\"Processing-3\"><span class=\"toc-item-num\">3&nbsp;&nbsp;</span>Processing</a></span></li><li><span><a href=\"#Basic-Natural-Language-Processing\" data-toc-modified-id=\"Basic-Natural-Language-Processing-4\"><span class=\"toc-item-num\">4&nbsp;&nbsp;</span>Basic Natural Language Processing</a></span></li><li><span><a href=\"#Conclusion\" data-toc-modified-id=\"Conclusion-5\"><span class=\"toc-item-num\">5&nbsp;&nbsp;</span>Conclusion</a></span></li><li><span><a href=\"#Bibliography\" data-toc-modified-id=\"Bibliography-6\"><span class=\"toc-item-num\">6&nbsp;&nbsp;</span>Bibliography</a></span></li></ul></div>"
   ]
  },
  {
   "cell_type": "markdown",
   "metadata": {},
   "source": [
    "\n",
    "There is a table of contents provided here at the top of the notebook, but you can also access this menu at any point by clicking the Table of Contents button on the top toolbar (an icon with four horizontal bars, if unsure hover your mouse over the buttons). "
   ]
  },
  {
   "cell_type": "markdown",
   "metadata": {},
   "source": [
    "## Introduction\n",
    "\n"
   ]
  },
  {
   "cell_type": "markdown",
   "metadata": {},
   "source": [
    "## Retrieval\n"
   ]
  },
  {
   "cell_type": "markdown",
   "metadata": {},
   "source": [
    "The first step in text-mining, or any form of data-mining, is retrieving a data set to work with. Within text-mining, or any language analysis context, one data set is usually referred to as 'a corpus' while multiple data sets are referred to as 'corpora' because it is a latin word and therefore has a funny plural. \n",
    "\n",
    "For text-mining, a corpus can be:\n",
    "- a set of tweets, \n",
    "- the full text of an 18th centrury novel,\n",
    "- the contents of a page in the dictionary, \n",
    "- random gibberish letters and numbers, or\n",
    "- just about anything else in text format. \n",
    "\n",
    "\n",
    "Retrieval is a very important step, but it is not the focus of this training series. If you are particularly interested in creating a corpus from internet adat, then we recommend you check out our previous training sessions on Web-scraping (recording or jupyter notebook) and API's (recording or jupyter notebook) Both of these demonstrate and discuss ways to get data from the internet that you could use to build a corpus. \n",
    "\n",
    "Instead, for the purposes of this session, we will assume that you already have a corpus to analyse. This is easy for us to assume, because we have provided a sample text file that we can use as a corpus for these exercises. \n",
    "\n",
    "First, let's check that it is there. To do that, click in the code cell below and hit the 'Run' button at the top of this page or by holding down the 'Shift' key and hitting the 'Enter' key. \n",
    "\n",
    "For the rest of this notebook, I will use 'Run/Shift+Enter' as short hand for 'click in the code cell below and hit the 'Run' button at the top of this page or by hold down the 'Shift' key while hitting the 'Enter' key'. \n"
   ]
  },
  {
   "cell_type": "code",
   "execution_count": 18,
   "metadata": {},
   "outputs": [
    {
     "name": "stdout",
     "output_type": "stream",
     "text": [
      "1. Succesfully imported necessary modules\n",
      "\n",
      "2. One of the files in ./data is... sample_text.txt\n",
      "\n"
     ]
    }
   ],
   "source": [
    "# It is good practice to always start by importing the modules and packages you will need. \n",
    "# os is a module for navigating your machine (e.g., file directories) and the print statement is just a bit of encouragement!\n",
    "import os\n",
    "print(\"1. Succesfully imported necessary modules\")    \n",
    "print(\"\")\n",
    "\n",
    "# List all of the files in the \"data\" folder that is provided to you\n",
    "for file in os.listdir(\"./data\"):\n",
    "   print(\"2. One of the files in ./data is...\", file)\n",
    "print(\"\")\n"
   ]
  },
  {
   "cell_type": "markdown",
   "metadata": {},
   "source": [
    "Great! We have imported a useful module and used it to check that we have access to the sample_text file. \n",
    "\n",
    "Now we need to load that sample_text file into a variable that we can work with in python. Time to Run/Shift+Enter again!"
   ]
  },
  {
   "cell_type": "code",
   "execution_count": 19,
   "metadata": {},
   "outputs": [
    {
     "name": "stdout",
     "output_type": "stream",
     "text": [
      "This is a sample corpus. It haz some spelling errors and has numbers written two ways. For example, it has both 1972 and ninety-six. \n",
      "\n",
      "This sample corpus also uses abbreviations sometimes, but not always. California is spelled out once but also written CA. \n",
      "\n",
      "To really complicate things, another country name is written as the U.K., the UK, the United Kingdom, the United Kingdom of Great Britain and The United Kingdom of Great Britain and Northern Ireland becuase sometimes full names are important. \n",
      "\n",
      "Further, here is a bunch of unrelated toxt just to fill up the space. \n",
      "\n",
      "This privacy policy (“Privacy Policy”) is intended to inform you of some policies and practices regarding the collection, use, and disclosure of your Personal Information through our site and any other sites that links to this Privacy Policy (the “Site”). We define “Personal Information” as information that allows someone to identify you personally or contact you, including for example your name, address, telephone number, and email address.\n",
      "\n",
      "By registering with us or using our Site, you expressly consent to the collection, use, processing, and disclosure of your Personal Information in accordance with this Privacy Policy. If you reside outside the United States, you understand that your Personal Information may be processed in countries (including the United States) where laws regarding processing personal information may be less stringent than in your country.\n",
      "\n",
      "Capitalized terms used in this Privacy Policy but not defined in this Privacy Policy have the meanings given to them in the Terms of Use or Contributor Terms, as applicable.\n",
      "\n",
      "Personal Information You Provide to Us. When you register for an account on our Site, we collect your name, e-mail address, and e-mail preferences, and password for your account. You may also provide us additional information on an optional basis indicated as such in connection with your account and/or your use of our Site. When you choose to participate in a survey, we may collect your name, e-mail address, mailing address, phone number, age, gender and/or other requested information. When you give us Feedback, we may collect any information that is contained in your Feedback. When you contact us by sending us an e-mail, fax, or letter, we collect your e-mail address, fax number, or mailing address, and any information contained in the e-mail, fax, or letter you send us.\n",
      "\n",
      "Personal Information You Provide to Us Using Social Networking Connections. When you register your account with Facebook, Twitter, or other third party social networking services (each, a “Social Networking Site”), we collect basic information about you and your friends that is provided to us by the Social Networking Sites. We combine this information with other personal information we collect from the Service. If you elect to share any information with Social Networking Sites while using our Site, we will share such information with the Social Networking Site and their use of such information will be subject to their own privacy policies and not by this Privacy Policy.\n",
      "\n",
      "Personal Information Collected via Technology. As you use our Site, some information may also be collected passively, including your Internet protocol address, browser type, the website you visited before browsing our Site, pages you viewed, how long you spent on a page, browser language, and access time.\n",
      "\n",
      "Cookies. We may automatically collect information using “cookies.” Cookies are small data files stored on your hard drive by a website. Among other things, cookies help us make our Site and your experience better. We use cookies to see which parts and features of our Site are popular and to count visits to our Site.\n",
      "\n",
      "Web Beacons. We may log information using digital images called “web beacons” (also called “pixel tags”) on our Site or in our emails. We use web beacons to manage cookies, count visits, and to learn what marketing works and what does not. We also use web beacons to tell if you open or act on our emails.\n",
      "\n",
      "Analytics. We use Google Analytics and other analytics services to help analyze how users use the Site. These analytics services uses cookies to collect and store information such as how often users visit the Site, what pages they visit, and what other sites they used prior to coming to the Site. We use the information we get from these analytics services only to improve our Site and our services. Please see the following links for more information about Google Analytics: http://www.google.com/privacy.html and https://tools.google.com/dlpage/gaoptout/.\n",
      "Personal Information from Other Sources. We may receive Personal Information about you from other sources, including other users. We may associate this information with the other Personal Information we have collected about you.\n",
      "\n",
      "Use of Information\n",
      "We use your Personal Information to respond to requests that you make, to personalize your online experience on our Site, and to provide and improve our Site and its associated features and our services.\n",
      "\n",
      "We track IP protocol addresses in conjunction with session Cookies to analyze our web page flow and to keep track of your session information and clickstream data. We use persistent Cookies to keep track of your login name and password in connection with your use of, and uploading of Your Content through, our Site and to personalize your online experience on our Site.\n",
      "\n",
      "We may use your Personal Information to send you electronic newsletters or promotional e-mails, unless you have requested not to receive such promotional communications from us. We may also use your Personal Information to send you communications relating to any of our programs for which you have registered, and you may opt out of these communications if you terminate your account on our Site.\n",
      "\n",
      "We may also use your Personal Information to protect, investigate, and deter against fraudulent, unauthorized, or illegal activity.\n",
      "\n",
      "We may create Anonymous Information records from Personal Information. We reserve the right to use and disclose Anonymous Information at our discretion. “Anonymous Information” means information that is not associated with or linked to your Personal Information.This privacy policy (“Privacy Policy”) is intended to inform you of Riot New Media Group, Inc’s (“Riot New Media Group, Inc,” “we,” “us,” or “our”) policies and practices regarding the collection, use, and disclosure of your Personal Information through our site located at https://bookriot.com/ and any other sites that links to this Privacy Policy (the “Site”). We define “Personal Information” as information that allows someone to identify you personally or contact you, including for example your name, address, telephone number, and email address.\n",
      "\n",
      "By registering with us or using our Site, you expressly consent to the collection, use, processing, and disclosure of your Personal Information in accordance with this Privacy Policy. If you reside outside the United States, you understand that your Personal Information may be processed in countries (including the United States) where laws regarding processing personal information may be less stringent than in your country.\n",
      "\n",
      "Capitalized terms used in this Privacy Policy but not defined in this Privacy Policy have the meanings given to them in the Terms of Use or Contributor Terms, as applicable.\n",
      "\n",
      "Personal Information You Provide to Us. When you register for an account on our Site, we collect your name, e-mail address, and e-mail preferences, and password for your account. You may also provide us additional information on an optional basis indicated as such in connection with your account and/or your use of our Site. When you choose to participate in a survey, we may collect your name, e-mail address, mailing address, phone number, age, gender and/or other requested information. When you give us Feedback, we may collect any information that is contained in your Feedback. When you contact us by sending us an e-mail, fax, or letter, we collect your e-mail address, fax number, or mailing address, and any information contained in the e-mail, fax, or letter you send us.\n",
      "\n",
      "Personal Information You Provide to Us Using Social Networking Connections. When you register your account with Facebook, Twitter, or other third party social networking services (each, a “Social Networking Site”), we collect basic information about you and your friends that is provided to us by the Social Networking Sites. We combine this information with other personal information we collect from the Service. If you elect to share any information with Social Networking Sites while using our Site, we will share such information with the Social Networking Site and their use of such information will be subject to their own privacy policies and not by this Privacy Policy.\n",
      "\n",
      "Personal Information Collected via Technology. As you use our Site, some information may also be collected passively, including your Internet protocol address, browser type, the website you visited before browsing our Site, pages you viewed, how long you spent on a page, browser language, and access time.\n",
      "\n",
      "Cookies. We may automatically collect information using “cookies.” Cookies are small data files stored on your hard drive by a website. Among other things, cookies help us make our Site and your experience better. We use cookies to see which parts and features of our Site are popular and to count visits to our Site.\n",
      "\n",
      "Web Beacons. We may log information using digital images called “web beacons” (also called “pixel tags”) on our Site or in our emails. We use web beacons to manage cookies, count visits, and to learn what marketing works and what does not. We also use web beacons to tell if you open or act on our emails.\n",
      "\n",
      "Analytics. We use Google Analytics and other analytics services to help analyze how users use the Site. These analytics services uses cookies to collect and store information such as how often users visit the Site, what pages they visit, and what other sites they used prior to coming to the Site. We use the information we get from these analytics services only to improve our Site and our services. Please see the following links for more information about Google Analytics: http://www.google.com/privacy.html and https://tools.google.com/dlpage/gaoptout/.\n",
      "Personal Information from Other Sources. We may receive Personal Information about you from other sources, including other users. We may associate this information with the other Personal Information we have collected about you.\n",
      "\n",
      "Use of Information\n",
      "We use your Personal Information to respond to requests that you make, to personalize your online experience on our Site, and to provide and improve our Site and its associated features and our services.\n",
      "\n",
      "We track IP protocol addresses in conjunction with session Cookies to analyze our web page flow and to keep track of your session information and clickstream data. We use persistent Cookies to keep track of your login name and password in connection with your use of, and uploading of Your Content through, our Site and to personalize your online experience on our Site.\n",
      "\n",
      "We may use your Personal Information to send you electronic newsletters or promotional e-mails, unless you have requested not to receive such promotional communications from us. We may also use your Personal Information to send you communications relating to any of our programs for which you have registered, and you may opt out of these communications if you terminate your account on our Site.\n",
      "\n",
      "We may also use your Personal Information to protect, investigate, and deter against fraudulent, unauthorized, or illegal activity.\n",
      "\n",
      "We may create Anonymous Information records from Personal Information. We reserve the right to use and disclose Anonymous Information at our discretion. “Anonymous Information” means information that is not associated with or linked to your Personal Information.\n",
      "\n",
      " \n",
      "\n",
      "Disclosure of Personal Information\n",
      "Except as otherwise stated in this Privacy Policy, we do not trade, rent, or share your Personal Information with third parties, unless you ask or authorize us to do so.\n",
      "\n",
      "We may provide your Personal Information to third party service providers who work on behalf of or with us to provide our Site and features thereof. However, these service providers do not have any independent right to share this information (except pursuant to a legal requirement such as a subpoena or warrant).\n",
      "\n",
      "Although we currently do not have a parent company, any subsidiaries, joint ventures, or other companies under a common control (collectively, “Affiliates”), we may in the future. We may share some or all of your Personal Information with our Affiliates in which case we will require our Affiliates to honor this Privacy Policy.\n",
      "\n",
      "If we or our assets related to this Privacy Policy are acquired by another company, or otherwise in connection with a merger, acquisition, bankruptcy, or dissolution, that company will receive your Personal Information collected by us in accordance with this Privacy Policy.\n",
      "\n",
      "We may share your information as required by law, or with law enforcement officers acting under the color of law, or if we believe in good faith that disclosure is necessary to: (1) comply with relevant laws or to respond to subpoenas or warrants served on us; or (2) to protect and defend ours, our Affiliates,’ other users,’ or your, rights, property or safety.\n",
      "\n",
      "Your Choices Regarding Your Personal Information\n",
      "We offer you choices regarding the collection, use, and sharing of your Personal Information. When you receive promotional communications from us or our Site, you may indicate a preference to stop receiving further promotional communications from us and you will have the opportunity to “opt-out” by following the unsubscribe instructions provided in the promotional e-mail you receive.\n",
      "\n",
      "Despite your indicated e-mail preferences, we may send you administrative e-mails regarding our Site and programs, including without limitation, for example, account creation confirmation, and notices of material changes to our Terms of Use, Contributor Terms, or Privacy Policy.\n",
      "\n",
      "You may change the email address, password and preferences you submitted related to your account on the Site at any time by editing it in your account page or you may delete your account. You may request deletion or modification of your Personal Information by us, but please note that we may be required (by law or otherwise) to keep this information and not delete it (or to keep this information for a certain time, in which case we will comply with your deletion request, only after we have fulfilled such requirements). When we delete Personal Information, it will be deleted from the active database, but may remain in our archives.\n",
      "\n",
      "When you visit our Site, we and others give you the following choices about use of mechanisms for tracking, including tracking of your online activities over time and across different websites and online services by third parties. You may also render some web beacons unusable by rejecting their associated cookies. Most web browsers are set to accept cookies by default. If you prefer, you can typically remove and reject cookies from our Site with your browser settings. If you remove or reject our cookies, it could affect how our Site and Services work for you. While we and others give you the choices described in this Policy, there are many ways Web browser signals and other similar mechanisms can indicate your choice to disable tracking, and we may not be aware of or honor every mechanism.\n",
      "\n",
      "Regarding Children. We do not intentionally gather Personal Information about users who are under the age of 13.\n",
      "\n",
      "Third Party Websites, Products, Services, Content, and Links. Please be aware that the terms of our Privacy Policy do not apply to third party websites, products, services, or content or to links provided for the foregoing on our Site. Third party providers of such third party websites, products, services, or content, may collect (via tracking technologies like Cookies or web beacons) and use anonymous information regarding your interaction with the third party website, product, service, or content that they deliver and with which you interact.\n",
      "\n",
      "Online Advertisements.\n",
      "\n",
      "We use third-party advertising companies to serve ads when you visit our Web site. These companies may use cookies, web beacons, and information (such as IP address, your ISP, and the browser you use to visit our Site) about your visits to this and other Web sites in order to provide advertisements about goods and services of interest to you. Information collected may be used, among other things, to deliver advertising relevant to your interests and to better understand the usage and visitation of our Site and the other sites tracked by these third parties. This policy does not apply to, and we are not responsible for, cookies or web beacons in third party ads, and we encourage you to check the privacy policies of advertisers and/or ad services to learn about their use of cookies and other technology. If you would like more information about this practice and to know your choices about not having this information used by these companies, please see: http://www.networkadvertising.org/managing/opt_out.asp or http://www.aboutads.info/choices/.\n",
      "\n",
      "Security. We make reasonable efforts to protect your Personal information, but no company, including Riot New Media Group, Inc, can fully eliminate security risks connected to handling information on the internet.\n",
      "\n",
      "Amendment. We may change this Privacy Policy from time to time. If we make any changes to this Privacy Policy, we will change the “Updated” date above. \n",
      "\n",
      "Disclosure of Personal Information\n",
      "Except as otherwise stated in this Privacy Policy, we do not trade, rent, or share your Personal Information with third parties, unless you ask or authorize us to do so.\n",
      "\n",
      "We may provide your Personal Information to third party service providers who work on behalf of or with us to provide our Site and features thereof. However, these service providers do not have any independent right to share this information (except pursuant to a legal requirement such as a subpoena or warrant).\n",
      "\n",
      "Although we currently do not have a parent company, any subsidiaries, joint ventures, or other companies under a common control (collectively, “Affiliates”), we may in the future. We may share some or all of your Personal Information with our Affiliates in which case we will require our Affiliates to honor this Privacy Policy.\n",
      "\n",
      "If we or our assets related to this Privacy Policy are acquired by another company, or otherwise in connection with a merger, acquisition, bankruptcy, or dissolution, that company will receive your Personal Information collected by us in accordance with this Privacy Policy.\n",
      "\n",
      "We may share your information as required by law, or with law enforcement officers acting under the color of law, or if we believe in good faith that disclosure is necessary to: (1) comply with relevant laws or to respond to subpoenas or warrants served on us; or (2) to protect and defend ours, our Affiliates,’ other users,’ or your, rights, property or safety.\n",
      "\n",
      "Your Choices Regarding Your Personal Information\n",
      "We offer you choices regarding the collection, use, and sharing of your Personal Information. When you receive promotional communications from us or our Site, you may indicate a preference to stop receiving further promotional communications from us and you will have the opportunity to “opt-out” by following the unsubscribe instructions provided in the promotional e-mail you receive.\n",
      "\n",
      "Despite your indicated e-mail preferences, we may send you administrative e-mails regarding our Site and programs, including without limitation, for example, account creation confirmation, and notices of material changes to our Terms of Use, Contributor Terms, or Privacy Policy.\n",
      "\n",
      "You may change the email address, password and preferences you submitted related to your account on the Site at any time by editing it in your account page or you may delete your account. You may request deletion or modification of your Personal Information by us, but please note that we may be required (by law or otherwise) to keep this information and not delete it (or to keep this information for a certain time, in which case we will comply with your deletion request, only after we have fulfilled such requirements). When we delete Personal Information, it will be deleted from the active database, but may remain in our archives.\n",
      "\n",
      "When you visit our Site, we and others give you the following choices about use of mechanisms for tracking, including tracking of your online activities over time and across different websites and online services by third parties. You may also render some web beacons unusable by rejecting their associated cookies. Most web browsers are set to accept cookies by default. If you prefer, you can typically remove and reject cookies from our Site with your browser settings. If you remove or reject our cookies, it could affect how our Site and Services work for you. While we and others give you the choices described in this Policy, there are many ways Web browser signals and other similar mechanisms can indicate your choice to disable tracking, and we may not be aware of or honor every mechanism.\n",
      "\n",
      "Regarding Children. We do not intentionally gather Personal Information about users who are under the age of 13.\n",
      "\n",
      "Third Party Websites, Products, Services, Content, and Links. Please be aware that the terms of our Privacy Policy do not apply to third party websites, products, services, or content or to links provided for the foregoing on our Site. Third party providers of such third party websites, products, services, or content, may collect (via tracking technologies like Cookies or web beacons) and use anonymous information regarding your interaction with the third party website, product, service, or content that they deliver and with which you interact.\n",
      "\n",
      "Online Advertisements.\n",
      "\n",
      "We use third-party advertising companies to serve ads when you visit our Web site. These companies may use cookies, web beacons, and information (such as IP address, your ISP, and the browser you use to visit our Site) about your visits to this and other Web sites in order to provide advertisements about goods and services of interest to you. Information collected may be used, among other things, to deliver advertising relevant to your interests and to better understand the usage and visitation of our Site and the other sites tracked by these third parties. This policy does not apply to, and we are not responsible for, cookies or web beacons in third party ads, and we encourage you to check the privacy policies of advertisers and/or ad services to learn about their use of cookies and other technology. If you would like more information about this practice and to know your choices about not having this information used by these companies, please see: http://www.networkadvertising.org/managing/opt_out.asp or http://www.aboutads.info/choices/.\n",
      "\n",
      "Security. We make reasonable efforts to protect your Personal information, but no company, including Riot New Media Group, Inc, can fully eliminate security risks connected to handling information on the internet.\n",
      "\n",
      "Amendment. We may change this Privacy Policy from time to time. If we make any changes to this Privacy Policy, we will change the “Updated” date above.\n"
     ]
    }
   ],
   "source": [
    "# Open the \"sample_text\" file and read (import) its contents to a variable called \"corpus\"\n",
    "with open(\"./data/sample_text.txt\", \"r\") as f:\n",
    "    corpus = f.read()\n",
    "    \n",
    "    print(corpus)"
   ]
  },
  {
   "cell_type": "markdown",
   "metadata": {},
   "source": [
    "Hmm. Not excellent literature, but it will do for our purposes. \n",
    "\n",
    "A quick look tells us that there are capital letters, contractions, punctuation, numbers as digits, numbers written out, abbreviations, and other things that, as humans, we know are equivalent but that computers do not know about. \n",
    "\n",
    "Before we go further, it helps to know what kind of variable corpus is. Run/Shift+Enter the next code block to find out!"
   ]
  },
  {
   "cell_type": "code",
   "execution_count": 20,
   "metadata": {},
   "outputs": [
    {
     "data": {
      "text/plain": [
       "str"
      ]
     },
     "execution_count": 20,
     "metadata": {},
     "output_type": "execute_result"
    }
   ],
   "source": [
    "type(corpus)"
   ]
  },
  {
   "cell_type": "markdown",
   "metadata": {},
   "source": [
    "This tells us that 'corpus' is one very long string of text characters. That is a good starting point, but 'one long thing' is less than ideal for statistical analysis, which prefers 'lots of short things'. \n",
    "\n",
    "As a consequence, a common starting point for text-mining is to turn a text from a string to  list in a consistent format, also known as a 'bag of words'. A 'bag of words' ignores whether (in the original text) any two words occurred next to each other or not. As a result, the 'bag of words' will miss out on the noun-verb distinction for 'building' in:\n",
    "- \"He is building a diorama for a school project.\" where 'building' is a verb and \n",
    "- \"The building is a clear example of brutalist architecture.\" where 'building' is a noun.\n",
    "\n",
    "There are other kinds of analyses, but for now let's proceed with the 'bag of words' model. The first step is to turn the one long string into a list of short strings by dividing the text into words. The most obvious way to do this is by telling the computer to split the string into substrings every time it finds a white space (including tabs and new lines). \n",
    "\n",
    "Let's try that. But this time, let's just have a look at the first 100 things it finds instead of the entire text.\n",
    "Run/Shift+Enter."
   ]
  },
  {
   "cell_type": "code",
   "execution_count": 24,
   "metadata": {},
   "outputs": [
    {
     "name": "stdout",
     "output_type": "stream",
     "text": [
      "['This', 'is', 'a', 'sample', 'corpus.', 'It', 'haz', 'some', 'spelling', 'errors', 'and', 'has', 'numbers', 'written', 'two', 'ways.', 'For', 'example,', 'it', 'has', 'both', '1972', 'and', 'ninety-six.', 'This', 'sample', 'corpus', 'also', 'uses', 'abbreviations', 'sometimes,', 'but', 'not', 'always.', 'California', 'is', 'spelled', 'out', 'once', 'but', 'also', 'written', 'CA.', 'To', 'really', 'complicate', 'things,', 'another', 'country', 'name', 'is', 'written', 'as', 'the', 'U.K.,', 'the', 'UK,', 'the', 'United', 'Kingdom,', 'the', 'United', 'Kingdom', 'of', 'Great', 'Britain', 'and', 'The', 'United', 'Kingdom', 'of', 'Great', 'Britain', 'and', 'Northern', 'Ireland', 'becuase', 'sometimes', 'full', 'names', 'are', 'important.', 'Further,', 'here', 'is', 'a', 'bunch', 'of', 'unrelated', 'toxt', 'just', 'to', 'fill', 'up', 'the', 'space.', 'This', 'privacy', 'policy', '(“Privacy']\n"
     ]
    }
   ],
   "source": [
    "# Split our corpus variable whenever we find white space and print the first 100 things that are split out. \n",
    "# NOTE: It is good practice to leave the raw text as a variable and create a new variable with the manipulations.\n",
    "# This allows us to get back to the original corpus easily. From now on, we can choose to create new variables each time, \n",
    "# or to keep rewriting corpus_words. Up to you. \n",
    "\n",
    "corpus_words = corpus.split()\n",
    "print(corpus_words[:100])"
   ]
  },
  {
   "cell_type": "markdown",
   "metadata": {},
   "source": [
    "OK. Well, this is a start. There are still some problems with spelling errors, capital letters and puctuation. For example, the there is a full stop attached to each word at the end of a sentence. More worryingly, the 100th thing split out by this method is '(\"Privacy', which has an opening parenthasis and the first half of a set of double quotes. \n",
    "\n",
    "Clearly, there are lots of steps to take to clean this bag of words. The easiest one to do first is to remove all uppercase letters with a built in python command. We can try that out next, again returning just the first 100 items instead of the whole thing. \n",
    "\n",
    "Do the Run/Shift+Enter thing. "
   ]
  },
  {
   "cell_type": "code",
   "execution_count": 28,
   "metadata": {},
   "outputs": [
    {
     "name": "stdout",
     "output_type": "stream",
     "text": [
      "['this', 'is', 'a', 'sample', 'corpus.', 'it', 'haz', 'some', 'spelling', 'errors', 'and', 'has', 'numbers', 'written', 'two', 'ways.', 'for', 'example,', 'it', 'has', 'both', '1972', 'and', 'ninety-six.', 'this', 'sample', 'corpus', 'also', 'uses', 'abbreviations', 'sometimes,', 'but', 'not', 'always.', 'california', 'is', 'spelled', 'out', 'once', 'but', 'also', 'written', 'ca.', 'to', 'really', 'complicate', 'things,', 'another', 'country', 'name', 'is', 'written', 'as', 'the', 'u.k.,', 'the', 'uk,', 'the', 'united', 'kingdom,', 'the', 'united', 'kingdom', 'of', 'great', 'britain', 'and', 'the', 'united', 'kingdom', 'of', 'great', 'britain', 'and', 'northern', 'ireland', 'becuase', 'sometimes', 'full', 'names', 'are', 'important.', 'further,', 'here', 'is', 'a', 'bunch', 'of', 'unrelated', 'toxt', 'just', 'to', 'fill', 'up', 'the', 'space.', 'this', 'privacy', 'policy', '(“privacy']\n"
     ]
    }
   ],
   "source": [
    "# You can see that I edited corpus_words rather than create a new variable called corpus_lower_words or something similar. \n",
    "# If you prefer to keep each iteration of manipulated corpus as separate, you can edit the variable names used in the code. \n",
    "\n",
    "corpus_words = [word.lower() for word in corpus_words]\n",
    "print(corpus_words[:100])"
   ]
  },
  {
   "cell_type": "code",
   "execution_count": 31,
   "metadata": {},
   "outputs": [
    {
     "name": "stdout",
     "output_type": "stream",
     "text": [
      "Collecting pyspellchecker\n",
      "  Using cached pyspellchecker-0.5.4-py2.py3-none-any.whl (1.9 MB)\n",
      "Installing collected packages: pyspellchecker\n",
      "Successfully installed pyspellchecker-0.5.4\n"
     ]
    }
   ],
   "source": [
    "!pip install pyspellchecker"
   ]
  },
  {
   "cell_type": "code",
   "execution_count": null,
   "metadata": {},
   "outputs": [],
   "source": [
    "\n",
    "\n",
    "#substitute contractions\n",
    "# from pycontractions import Contractions\n",
    "\n",
    "# remove punctuation\n",
    "# substitute abbreviations\n"
   ]
  },
  {
   "cell_type": "code",
   "execution_count": 21,
   "metadata": {},
   "outputs": [
    {
     "ename": "SyntaxError",
     "evalue": "invalid syntax (<ipython-input-21-e633aa894af1>, line 11)",
     "output_type": "error",
     "traceback": [
      "\u001b[1;36m  File \u001b[1;32m\"<ipython-input-21-e633aa894af1>\"\u001b[1;36m, line \u001b[1;32m11\u001b[0m\n\u001b[1;33m    nltk.downloader twitter_samples\u001b[0m\n\u001b[1;37m                                  ^\u001b[0m\n\u001b[1;31mSyntaxError\u001b[0m\u001b[1;31m:\u001b[0m invalid syntax\n"
     ]
    }
   ],
   "source": [
    "import nltk\n",
    "import nltk.corpus\n",
    "\n",
    "# importing word_tokenize from nltk\n",
    "from nltk.tokenize import word_tokenize\n",
    "# Passing the string text into word tokenize for breaking the sentences\n",
    "token = word_tokenize(text)\n",
    "token\n",
    "\n",
    "\n",
    "nltk.downloader twitter_samples\n",
    "\n",
    "from nltk.corpus import twitter_samples\n",
    "\n",
    "text=\"\"\"Hello Mr. Smith, how are you doing today? The weather is great, and city is awesome.\n",
    "The sky is pinkish-blue. You shouldn't eat cardboard\"\"\"\n",
    "\n",
    "print(twitter_samples)"
   ]
  },
  {
   "cell_type": "markdown",
   "metadata": {},
   "source": [
    "## Processing\n",
    "\n"
   ]
  },
  {
   "cell_type": "markdown",
   "metadata": {},
   "source": [
    "## Basic Natural Language Processing\n",
    "\n"
   ]
  },
  {
   "cell_type": "markdown",
   "metadata": {},
   "source": [
    "<!-- ### Thinking computationally\n",
    "\n",
    "[Barba et al. (2019)](https://jupyter4edu.github.io/jupyter-edu-book/)\n",
    "\n",
    "* Decomposition: Breaking down data, processes, or problems into smaller, manageable parts\n",
    "* Pattern Recognition: Observing patterns, trends, and regularities in data\n",
    "* Abstraction: Identifying the general principles that generate these patterns\n",
    "* Algorithm Design: Developing the step by step instructions for solving this and similar problems\n",
    "\n",
    " -->"
   ]
  },
  {
   "cell_type": "code",
   "execution_count": 14,
   "metadata": {},
   "outputs": [
    {
     "name": "stdout",
     "output_type": "stream",
     "text": [
      "Hello Mr. Smith, how are you doing today? The weather is great, and city is awesome.\n",
      "The sky is pinkish-blue. You shouldn't eat cardboard\n"
     ]
    },
    {
     "name": "stderr",
     "output_type": "stream",
     "text": [
      "[nltk_data] Downloading package punkt to\n",
      "[nltk_data]     C:\\Users\\mzyssjkc\\AppData\\Roaming\\nltk_data...\n",
      "[nltk_data]   Package punkt is already up-to-date!\n"
     ]
    },
    {
     "data": {
      "text/plain": [
       "str"
      ]
     },
     "execution_count": 14,
     "metadata": {},
     "output_type": "execute_result"
    }
   ],
   "source": [
    "import nltk\n",
    "nltk.download('punkt')\n",
    "\n",
    "\n",
    "print(text)\n",
    "type(text)"
   ]
  },
  {
   "cell_type": "markdown",
   "metadata": {},
   "source": [
    "Import"
   ]
  },
  {
   "cell_type": "code",
   "execution_count": 13,
   "metadata": {},
   "outputs": [
    {
     "name": "stdout",
     "output_type": "stream",
     "text": [
      "['Hello Mr. Smith, how are you doing today?', 'The weather is great, and city is awesome.', 'The sky is pinkish-blue.', \"You shouldn't eat cardboard\"]\n"
     ]
    },
    {
     "data": {
      "text/plain": [
       "list"
      ]
     },
     "execution_count": 13,
     "metadata": {},
     "output_type": "execute_result"
    }
   ],
   "source": [
    "from nltk.tokenize import sent_tokenize\n",
    "\n",
    "tokenized_text=sent_tokenize(text)\n",
    "\n",
    "print(tokenized_text)\n",
    "type(tokenized_text)"
   ]
  },
  {
   "cell_type": "markdown",
   "metadata": {},
   "source": [
    "Commentary"
   ]
  },
  {
   "cell_type": "code",
   "execution_count": 15,
   "metadata": {},
   "outputs": [
    {
     "name": "stdout",
     "output_type": "stream",
     "text": [
      "['Hello', 'Mr.', 'Smith', ',', 'how', 'are', 'you', 'doing', 'today', '?', 'The', 'weather', 'is', 'great', ',', 'and', 'city', 'is', 'awesome', '.', 'The', 'sky', 'is', 'pinkish-blue', '.', 'You', 'should', \"n't\", 'eat', 'cardboard']\n"
     ]
    },
    {
     "data": {
      "text/plain": [
       "list"
      ]
     },
     "execution_count": 15,
     "metadata": {},
     "output_type": "execute_result"
    }
   ],
   "source": [
    "from nltk.tokenize import word_tokenize\n",
    "\n",
    "tokenized_word=word_tokenize(text)\n",
    "\n",
    "print(tokenized_word)\n",
    "type(tokenized_word)"
   ]
  },
  {
   "cell_type": "markdown",
   "metadata": {},
   "source": [
    "Commentary"
   ]
  },
  {
   "cell_type": "markdown",
   "metadata": {},
   "source": [
    "## Conclusion\n",
    "\n",
    "Hopefully this chapter has demystified aspects of CSS and whetted your appetite for some applied work. The subsequent chapters provide plenty of opportunity to practice CSS with various forms of data. For now I wanted to reflect on some outstanding issues.\n",
    "\n",
    "<!-- #### Python vs R vs Julia vs ....\n",
    "\n",
    "[Perhaps a table with some properties of each?] The general point is it's your choice.\n",
    " -->"
   ]
  },
  {
   "cell_type": "markdown",
   "metadata": {},
   "source": [
    "## Bibliography\n"
   ]
  },
  {
   "cell_type": "markdown",
   "metadata": {},
   "source": [
    "<!-- ## Further Reading and Resources\n",
    "\n",
    "[Copy AQMEN reading lists] -->"
   ]
  },
  {
   "cell_type": "code",
   "execution_count": null,
   "metadata": {},
   "outputs": [],
   "source": []
  }
 ],
 "metadata": {
  "kernelspec": {
   "display_name": "Python 3",
   "language": "python",
   "name": "python3"
  },
  "language_info": {
   "codemirror_mode": {
    "name": "ipython",
    "version": 3
   },
   "file_extension": ".py",
   "mimetype": "text/x-python",
   "name": "python",
   "nbconvert_exporter": "python",
   "pygments_lexer": "ipython3",
   "version": "3.7.7"
  },
  "toc": {
   "base_numbering": 1,
   "nav_menu": {},
   "number_sections": true,
   "sideBar": true,
   "skip_h1_title": true,
   "title_cell": "Table of Contents",
   "title_sidebar": "Contents",
   "toc_cell": true,
   "toc_position": {},
   "toc_section_display": true,
   "toc_window_display": false
  }
 },
 "nbformat": 4,
 "nbformat_minor": 2
}
