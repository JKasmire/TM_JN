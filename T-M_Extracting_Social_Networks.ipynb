{
 "cells": [
  {
   "cell_type": "markdown",
   "metadata": {},
   "source": [
    "![UKDS Logo](images/UKDS_Logos_Col_Grey_300dpi.png)"
   ]
  },
  {
   "cell_type": "markdown",
   "metadata": {
    "slideshow": {
     "slide_type": "-"
    }
   },
   "source": [
    "# Text-mining: Basics"
   ]
  },
  {
   "cell_type": "markdown",
   "metadata": {},
   "source": [
    "Welcome to the <a href=\"https://ukdataservice.ac.uk/\" target=_blank>UK Data Service</a> training series on *New Forms of Data for Social Science Research*. This series guides you through some of the most common and valuable new sources of data available for social science research: data collected from websites, social media platorms, text data, conducting simulations (agent based modelling), to name a few. We provide webinars, interactive notebooks containing live programming code, reading lists and more.\n",
    "\n",
    "* To access training materials for the entire series: <a href=\"https://github.com/UKDataServiceOpen/new-forms-of-data\" target=_blank>[Training Materials]</a>\n",
    "\n",
    "* To keep up to date with upcoming and past training events: <a href=\"https://ukdataservice.ac.uk/news-and-events/events\" target=_blank>[Events]</a>\n",
    "\n",
    "* To get in contact with feedback, ideas or to seek assistance: <a href=\"https://ukdataservice.ac.uk/help.aspx\" target=_blank>[Help]</a>\n",
    "\n",
    "<a href=\"https://www.research.manchester.ac.uk/portal/julia.kasmire.html\" target=_blank>Dr Julia Kasmire</a> and <a href=\"https://www.research.manchester.ac.uk/portal/diarmuid.mcdonnell.html\" target=_blank>Dr Diarmuid McDonnell</a> <br />\n",
    "UK Data Service  <br />\n",
    "University of Manchester <br />\n",
    "May 2020"
   ]
  },
  {
   "cell_type": "markdown",
   "metadata": {
    "toc": true
   },
   "source": [
    "<h1>Table of Contents<span class=\"tocSkip\"></span></h1>\n",
    "<div class=\"toc\"><ul class=\"toc-item\"><li><span><a href=\"#Introduction\" data-toc-modified-id=\"Introduction-1\"><span class=\"toc-item-num\">1&nbsp;&nbsp;</span>Introduction</a></span></li><li><span><a href=\"#Acquire-and-prepare-a-set-of-documents-with-named-entities.\" data-toc-modified-id=\"Acquire-and-prepare-a-set-of-documents-with-named-entities.-2\"><span class=\"toc-item-num\">2&nbsp;&nbsp;</span>Acquire and prepare a set of documents with named entities.</a></span></li><li><span><a href=\"#Extract-the-chunks-that-relate-to-people\" data-toc-modified-id=\"Extract-the-chunks-that-relate-to-people-3\"><span class=\"toc-item-num\">3&nbsp;&nbsp;</span>Extract the chunks that relate to people</a></span></li><li><span><a href=\"#Identify-which-extracted-people-are-named-in-the-same-document\" data-toc-modified-id=\"Identify-which-extracted-people-are-named-in-the-same-document-4\"><span class=\"toc-item-num\">4&nbsp;&nbsp;</span>Identify which extracted people are named in the same document</a></span></li><li><span><a href=\"#Create-a-network-graph-using-the-extracted-people-as-nodes-and-co-occurrences-as-edges\" data-toc-modified-id=\"Create-a-network-graph-using-the-extracted-people-as-nodes-and-co-occurrences-as-edges-5\"><span class=\"toc-item-num\">5&nbsp;&nbsp;</span>Create a network graph using the extracted people as nodes and co-occurrences as edges</a></span></li><li><span><a href=\"#Draw-the-graph\" data-toc-modified-id=\"Draw-the-graph-6\"><span class=\"toc-item-num\">6&nbsp;&nbsp;</span>Draw the graph</a></span></li><li><span><a href=\"#Conclusions\" data-toc-modified-id=\"Conclusions-7\"><span class=\"toc-item-num\">7&nbsp;&nbsp;</span>Conclusions</a></span><ul class=\"toc-item\"><li><span><a href=\"#Further-reading\" data-toc-modified-id=\"Further-reading-7.1\"><span class=\"toc-item-num\">7.1&nbsp;&nbsp;</span>Further reading</a></span></li></ul></li></ul></div>"
   ]
  },
  {
   "cell_type": "markdown",
   "metadata": {},
   "source": [
    "\n",
    "There is a table of contents provided here at the top of the notebook, but you can also access this menu at any point by clicking the Table of Contents button on the top toolbar (an icon with four horizontal bars, if unsure hover your mouse over the buttons). "
   ]
  },
  {
   "cell_type": "markdown",
   "metadata": {},
   "source": [
    "## Introduction"
   ]
  },
  {
   "cell_type": "markdown",
   "metadata": {},
   "source": [
    "Sentiment analysis is a commonly used example of automatic classification. To be clear, automatic classification means that a model or learning algorithm has been trained on correctly classified documents and it uses this training to returns a probability assessment of what class a new document should belong to. \n",
    "\n",
    "Sentiment analysis works the same way, but usually only has two classes - positive and negative. A trained model looks at new data and says whether that new data is likely to be positive or negative. Let's take a look!"
   ]
  },
  {
   "cell_type": "markdown",
   "metadata": {},
   "source": [
    "## Acquire and prepare a set of documents with named entities."
   ]
  },
  {
   "cell_type": "markdown",
   "metadata": {},
   "source": [
    "Let's start off by importing and downloading some useful packages, including textblob. These should be familiar if you have worked through the 'Basic Extraction' notebook. \n",
    "\n",
    "Run/Shift+Enter."
   ]
  },
  {
   "cell_type": "code",
   "execution_count": 5,
   "metadata": {},
   "outputs": [],
   "source": [
    "import nltk                                          # get nltk \n",
    "from tltk import word_tokenize, pos_tag, ne_chunk    # import some of our old favourte functions\n",
    "from nltk import Tree                                # and import some new functions"
   ]
  },
  {
   "cell_type": "code",
   "execution_count": 176,
   "metadata": {},
   "outputs": [],
   "source": [
    "social_data = ['Archibald walked through the park with Beryl.', \n",
    "               'Tariq saw Beryl when she played tennis.', \n",
    "               'Archibald purchased a house with Beryl and Cerys.',\n",
    "               'Cerys works with both Tariq and Edith.', \n",
    "               'Edith drives past Archibald and Denise on her morning commute.',\n",
    "               'Fadwa listens to podcasts while running.', \n",
    "               'Guo-feng and Hita often drive to the coast on the weekend.']"
   ]
  },
  {
   "cell_type": "markdown",
   "metadata": {},
   "source": [
    "Named Entity chunkers require data that is word tokenised and POS-tagged. \n"
   ]
  },
  {
   "cell_type": "code",
   "execution_count": 177,
   "metadata": {},
   "outputs": [
    {
     "name": "stdout",
     "output_type": "stream",
     "text": [
      "[Tree('S', [Tree('PERSON', [('Archibald', 'NNP')]), ('walked', 'VBD'), ('through', 'IN'), ('the', 'DT'), ('park', 'NN'), ('with', 'IN'), Tree('PERSON', [('Beryl', 'NNP')]), ('.', '.')]), Tree('S', [Tree('PERSON', [('Tariq', 'NNP')]), ('saw', 'VBD'), Tree('PERSON', [('Beryl', 'NNP')]), ('when', 'WRB'), ('she', 'PRP'), ('played', 'VBD'), ('tennis', 'NN'), ('.', '.')]), Tree('S', [Tree('PERSON', [('Archibald', 'NNP')]), ('purchased', 'VBD'), ('a', 'DT'), ('house', 'NN'), ('with', 'IN'), Tree('PERSON', [('Beryl', 'NNP')]), ('and', 'CC'), Tree('PERSON', [('Cerys', 'NNP')]), ('.', '.')]), Tree('S', [Tree('GPE', [('Cerys', 'NNP')]), ('works', 'VBZ'), ('with', 'IN'), ('both', 'DT'), Tree('PERSON', [('Tariq', 'NNP')]), ('and', 'CC'), Tree('PERSON', [('Edith', 'NNP')]), ('.', '.')]), Tree('S', [Tree('GPE', [('Edith', 'NNP')]), ('drives', 'NNS'), ('past', 'JJ'), Tree('ORGANIZATION', [('Archibald', 'NNP')]), ('and', 'CC'), Tree('PERSON', [('Denise', 'NNP')]), ('on', 'IN'), ('her', 'PRP$'), ('morning', 'NN'), ('commute', 'NN'), ('.', '.')]), Tree('S', [Tree('GPE', [('Fadwa', 'NNP')]), ('listens', 'VBZ'), ('to', 'TO'), ('podcasts', 'NNS'), ('while', 'IN'), ('running', 'VBG'), ('.', '.')]), Tree('S', [('Guo-feng', 'NNP'), ('and', 'CC'), Tree('PERSON', [('Hita', 'NNP')]), ('often', 'RB'), ('drive', 'VBP'), ('to', 'TO'), ('the', 'DT'), ('coast', 'NN'), ('on', 'IN'), ('the', 'DT'), ('weekend', 'NN'), ('.', '.')])]\n"
     ]
    }
   ],
   "source": [
    "social_entities = []\n",
    "for item in social_data:\n",
    "    tokens = word_tokenize(item)\n",
    "    tags = nltk.pos_tag(tokens)\n",
    "    chunks = ne_chunk(tags)\n",
    "    social_entities.append(chunks)\n",
    "    \n",
    "print(social_entities)                       # print everything, since this is a small enough list"
   ]
  },
  {
   "cell_type": "markdown",
   "metadata": {},
   "source": [
    "## Extract the chunks that relate to people"
   ]
  },
  {
   "cell_type": "code",
   "execution_count": 231,
   "metadata": {},
   "outputs": [
    {
     "name": "stdout",
     "output_type": "stream",
     "text": [
      "[['Archibald', 'Beryl'], ['Beryl', 'Tariq'], ['Archibald', 'Beryl', 'Cerys'], ['Cerys', 'Edith', 'Tariq'], ['Archibald', 'Denise', 'Edith'], ['Fadwa'], ['Guo-feng', 'Hita']]\n"
     ]
    }
   ],
   "source": [
    "extracted_persons = []\n",
    "for tagged_tree in social_entities:\n",
    "    people = []\n",
    "    for leaf in tagged_tree.leaves():\n",
    "        if 'NNP' in leaf[1]:\n",
    "            people.append(leaf[0])        \n",
    "    extracted_persons.append(sorted(people))\n",
    "    \n",
    "print(extracted_persons)\n",
    "\n",
    "#extracted_persons = []\n",
    "#for tree in social_entities:\n",
    "#    people = []\n",
    "#    if tree[0].label() == 'PERSON':\n",
    "#            people.append(tree[0][0][0])        \n",
    "#    extracted_persons.append(people)\n",
    "    \n",
    "#print(extracted_persons)"
   ]
  },
  {
   "cell_type": "code",
   "execution_count": 240,
   "metadata": {},
   "outputs": [
    {
     "name": "stdout",
     "output_type": "stream",
     "text": [
      "['Archibald', 'Beryl', 'Cerys', 'Denise', 'Edith', 'Fadwa', 'Guo-feng', 'Hita', 'Tariq']\n",
      "...\n",
      "[('Archibald', 'Beryl'), ('Beryl', 'Archibald'), ('Beryl', 'Tariq'), ('Tariq', 'Beryl'), ('Archibald', 'Beryl'), ('Archibald', 'Cerys'), ('Beryl', 'Archibald'), ('Beryl', 'Cerys'), ('Cerys', 'Archibald'), ('Cerys', 'Beryl'), ('Cerys', 'Edith'), ('Cerys', 'Tariq'), ('Edith', 'Cerys'), ('Edith', 'Tariq'), ('Tariq', 'Cerys'), ('Tariq', 'Edith'), ('Archibald', 'Denise'), ('Archibald', 'Edith'), ('Denise', 'Archibald'), ('Denise', 'Edith'), ('Edith', 'Archibald'), ('Edith', 'Denise'), ('Guo-feng', 'Hita'), ('Hita', 'Guo-feng')]\n"
     ]
    }
   ],
   "source": [
    "from itertools import chain, tee\n",
    "\n",
    "unique_people = sorted(list(set(chain(*extracted_persons))))\n",
    "print(unique_people)\n",
    "print(\"...\")"
   ]
  },
  {
   "cell_type": "markdown",
   "metadata": {},
   "source": [
    "## Identify which extracted people are named in the same document"
   ]
  },
  {
   "cell_type": "code",
   "execution_count": null,
   "metadata": {},
   "outputs": [],
   "source": [
    "co_occurring_people_pairs = []\n",
    "for people in extracted_persons:\n",
    "        for each_permutation in itertools.permutations(people, 2):\n",
    "            co_occurring_people_pairs.append(each_permutation)\n",
    "\n",
    "print(co_occurring_people_pairs)"
   ]
  },
  {
   "cell_type": "markdown",
   "metadata": {},
   "source": [
    "## Create a network graph using the extracted people as nodes and co-occurrences as edges"
   ]
  },
  {
   "cell_type": "code",
   "execution_count": 243,
   "metadata": {},
   "outputs": [
    {
     "name": "stdout",
     "output_type": "stream",
     "text": [
      "Requirement already satisfied: networkx in c:\\programdata\\anaconda3\\lib\\site-packages (2.4)\n",
      "Requirement already satisfied: decorator>=4.3.0 in c:\\programdata\\anaconda3\\lib\\site-packages (from networkx) (4.4.1)\n"
     ]
    }
   ],
   "source": [
    "!pip install networkx\n",
    "from operator import itemgetter\n",
    "import networkx as nx\n",
    "from networkx.algorithms import community\n"
   ]
  },
  {
   "cell_type": "code",
   "execution_count": 258,
   "metadata": {},
   "outputs": [
    {
     "name": "stdout",
     "output_type": "stream",
     "text": [
      "['Archibald', 'Beryl', 'Cerys', 'Denise', 'Edith', 'Fadwa', 'Guo-feng', 'Hita', 'Tariq']\n"
     ]
    }
   ],
   "source": [
    "social_network = nx.Graph()                             # Initialize an empty networkx graph object called 'social_network'\n",
    "social_network.add_nodes_from(unique_people)            # Add nodes to social_network from our extracted 'unique_people' list\n",
    "print(social_network.nodes)                             # Just take a quick peak at the nodes"
   ]
  },
  {
   "cell_type": "code",
   "execution_count": 259,
   "metadata": {},
   "outputs": [
    {
     "name": "stdout",
     "output_type": "stream",
     "text": [
      "[('Archibald', 'Beryl'), ('Archibald', 'Cerys'), ('Archibald', 'Denise'), ('Archibald', 'Edith'), ('Beryl', 'Tariq'), ('Beryl', 'Cerys'), ('Cerys', 'Edith'), ('Cerys', 'Tariq'), ('Denise', 'Edith'), ('Edith', 'Tariq'), ('Guo-feng', 'Hita')]\n"
     ]
    }
   ],
   "source": [
    "social_network.add_edges_from(co_occurring_people_pairs) # Add edges to social_network from our co-occurrence tuples\n",
    "print(social_network.edges)                              # Another quick look, this time at the just-imported edges"
   ]
  },
  {
   "cell_type": "code",
   "execution_count": 263,
   "metadata": {},
   "outputs": [
    {
     "name": "stdout",
     "output_type": "stream",
     "text": [
      "Name: \n",
      "Type: Graph\n",
      "Number of nodes: 9\n",
      "Number of edges: 11\n",
      "Average degree:   2.4444\n",
      "...\n",
      "Network density: 0.3055555555555556\n"
     ]
    }
   ],
   "source": [
    "print(nx.info(social_network))                          # the nx.info prints some basics about social_network\n",
    "print('...')                                            # nx.info doesn't have everything you might want...\n",
    "                                                        # but extra info is easy to get.\n",
    "print(\"Network density:\", nx.density(social_network))"
   ]
  },
  {
   "cell_type": "markdown",
   "metadata": {},
   "source": [
    "## Draw the graph"
   ]
  },
  {
   "cell_type": "code",
   "execution_count": 249,
   "metadata": {},
   "outputs": [],
   "source": [
    "import matplotlib.pyplot as plt"
   ]
  },
  {
   "cell_type": "code",
   "execution_count": 265,
   "metadata": {
    "scrolled": true
   },
   "outputs": [
    {
     "data": {
      "image/png": "[encoded data removed]",
      "text/plain": [
       "<Figure size 432x288 with 1 Axes>"
      ]
     },
     "metadata": {},
     "output_type": "display_data"
    }
   ],
   "source": [
    "nx.draw(social_network, with_labels=True, font_weight='bold')\n"
   ]
  },
  {
   "cell_type": "markdown",
   "metadata": {},
   "source": [
    "Now, lets get some data.\n",
    "\n",
    "Run/Shift+Enter, as above!"
   ]
  },
  {
   "cell_type": "markdown",
   "metadata": {},
   "source": [
    "## Conclusions"
   ]
  },
  {
   "cell_type": "markdown",
   "metadata": {},
   "source": [
    "We have only started to dip our toes into what NLP can do, but hopefully this will whet your appetite to know more. \n",
    "\n",
    "As before, these exercises and this sample code should highlight to you that you need to think about:\n",
    "- your research questions and what you want to show, explore or understand, \n",
    "- your data, texts, corpus, or other research materials to analyse etc. \n",
    "- how your processes are related to your reserch questions, and \n",
    "- how your processes and data can be made available and reproducible. "
   ]
  },
  {
   "cell_type": "markdown",
   "metadata": {},
   "source": [
    "### Further reading"
   ]
  },
  {
   "cell_type": "markdown",
   "metadata": {},
   "source": [
    "Books, tutorials, package recommendations, etc. for Python\n",
    "\n",
    "- Natural Language Processing with Python by Steven Bird, Ewan Klein and Edward Loper, http://www.nltk.org/book/\n",
    "- Foundations of Statistical Natural Language Processing by Christopher Manning and Hinrich Schütze, https://nlp.stanford.edu/fsnlp/promo/\n",
    "- Speech and Language Processing: An Introduction to Natural Language Processing, Computational Linguistics and Speech Recognition by Dan Jurafsky and James H. Martin, https://web.stanford.edu/~jurafsky/slp3/ed3book.pdf\n",
    "- Deep Learning in Natural Language Processing by Li Deng, Yang Liu, https://lidengsite.wordpress.com/book-chapters/\n",
    "- Sentiment Analysis data sets https://blog.cambridgespark.com/50-free-machine-learning-datasets-sentiment-analysis-b9388f79c124\n",
    "\n",
    "NLTK options\n",
    "- nltk.corpus http://www.nltk.org/howto/corpus.html\n",
    "- Data Camp tutorial on sentiment analysis with nltk https://www.datacamp.com/community/tutorials/simplifying-sentiment-analysis-python\n",
    "- Vader sentiment analysis script available on github (nltk) https://www.nltk.org/_modules/nltk/sentiment/vader.html\n",
    "- TextBlob https://textblob.readthedocs.io/en/dev/\n",
    "- Flair, a NLP script available on github https://github.com/flairNLP/flair\n",
    "\n",
    "networkx\n",
    "- package details https://networkx.github.io/documentation/stable/index.html\n",
    "- info about drawing graphs, including links to dedicated graph visualisation software https://networkx.github.io/documentation/stable/reference/drawing.html\n",
    "- drawing examples and specific tutorials https://networkx.github.io/documentation/latest/auto_examples/index.html\n",
    "\n",
    "\n",
    "Books and package recommendations for R\n",
    "- Quanteda, an R package for text analysis https://quanteda.io/​\n",
    "- Text Mining with R, a free online book https://www.tidytextmining.com/​"
   ]
  }
 ],
 "metadata": {
  "kernelspec": {
   "display_name": "Python 3",
   "language": "python",
   "name": "python3"
  },
  "language_info": {
   "codemirror_mode": {
    "name": "ipython",
    "version": 3
   },
   "file_extension": ".py",
   "mimetype": "text/x-python",
   "name": "python",
   "nbconvert_exporter": "python",
   "pygments_lexer": "ipython3",
   "version": "3.7.6"
  },
  "toc": {
   "base_numbering": 1,
   "nav_menu": {},
   "number_sections": true,
   "sideBar": true,
   "skip_h1_title": true,
   "title_cell": "Table of Contents",
   "title_sidebar": "Contents",
   "toc_cell": true,
   "toc_position": {},
   "toc_section_display": true,
   "toc_window_display": false
  }
 },
 "nbformat": 4,
 "nbformat_minor": 2
}
