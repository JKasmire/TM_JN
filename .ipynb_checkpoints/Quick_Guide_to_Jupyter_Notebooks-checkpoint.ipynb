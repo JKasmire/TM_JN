{
 "cells": [
  {
   "cell_type": "markdown",
   "metadata": {},
   "source": [
    "# Quick Guide to Jupyter Notebooks"
   ]
  },
  {
   "cell_type": "markdown",
   "metadata": {},
   "source": [
    "This is a [Jupyter notebook](https://jupyter.org/), an open-source software application that allows you to mix code, results and narrative in a single document. As [Barba et al. (2019)](https://jupyter4edu.github.io/jupyter-edu-book/) espouse:\n",
    "> In a world where every subject matter can have a data-supported treatment, where computational devices are omnipresent and pervasive, the union of natural language and computation creates compelling communication and learning opportunities.\n",
    "\n",
    "If you are familiar with Jupyter notebooks then skip ahead to the main content. Otherwise, the following is a quick guide to navigating and interacting with the notebook."
   ]
  },
  {
   "cell_type": "markdown",
   "metadata": {},
   "source": [
    "### Structure\n",
    "\n",
    "Notebooks are comprised of cells, of which there are three types:\n",
    "* **Code** - allow you to write executable programming code in multiple languages (default is Python). Each code cell has an output window underneath it for displaying the results the code produces.\n",
    "* **Markdown** - allow you to include narrative content (e.g., paragraphs, headings, images).\n",
    "* **Raw NBConvert** - allow you to write content that is unmodified when the notebook is run (e.g., programming code that is provided as an example and should not be executed).\n",
    "\n",
    "Let's look at examples of each."
   ]
  },
  {
   "cell_type": "code",
   "execution_count": null,
   "metadata": {},
   "outputs": [],
   "source": [
    "print(\"This is an executable code cell\")\n",
    "print(\"\\r\")\n",
    "\n",
    "for i in range(5):\n",
    "    print(i + 10)"
   ]
  },
  {
   "cell_type": "markdown",
   "metadata": {},
   "source": [
    "This a where we write some narrative about the results the code produces. For example, the code cell above loops through the numbers 0 to 4, adds 10 to each, and displays the result.\n",
    "\n",
    "Markdown is a simple language that takes plain text and renders it in a more visually appealing format, and is primarily used for text published on a web page. For example, you can highlight words using **bold** and *italics*, insert [links](https://en.wikipedia.org/wiki/Markdown), and create lists:\n",
    "1. Item 1\n",
    "2. Item 2\n",
    "    * Sub item 2.1\n",
    "    \n",
    "Double-click on this cell to see the underlying Markdown."
   ]
  },
  {
   "cell_type": "raw",
   "metadata": {},
   "source": [
    "This is a raw cell. Its contents are not executed or rendered when we run the cell. For instance the code below will not work in this cell.\n",
    "\n",
    "for i in range(5):\n",
    "    print(i + 10)"
   ]
  },
  {
   "cell_type": "markdown",
   "metadata": {},
   "source": [
    "### Interaction\n",
    "\n",
    "A major advantage of a Jupyter notebook is the ability to edit and execute cells. For a code cell this means running the code to produce some results; for a markdown cell this means writing, editing and formatting the contents; and raw cells can be edited but not executed.\n",
    "\n",
    "* To edit a cell: double-click the cell and type your changes.\n",
    "* To execute a cell: click or double-click the cell and press the Run button on the top toolbar (you can also use the keyboard shortcut Shift + Enter)."
   ]
  },
  {
   "cell_type": "markdown",
   "metadata": {},
   "source": [
    "### Learn more\n",
    "Jupyter notebooks provide rich, flexible features for conducting and documenting your data analysis workflow. To learn more about additional notebook features, we recommend working through some of the materials provided by Dani Arribas-Bel at the University of Liverpool."
   ]
  }
 ],
 "metadata": {
  "kernelspec": {
   "display_name": "Python 3",
   "language": "python",
   "name": "python3"
  },
  "language_info": {
   "codemirror_mode": {
    "name": "ipython",
    "version": 3
   },
   "file_extension": ".py",
   "mimetype": "text/x-python",
   "name": "python",
   "nbconvert_exporter": "python",
   "pygments_lexer": "ipython3",
   "version": "3.7.7"
  }
 },
 "nbformat": 4,
 "nbformat_minor": 4
}
